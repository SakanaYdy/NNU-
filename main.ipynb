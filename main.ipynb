{
 "cells": [
  {
   "cell_type": "markdown",
   "metadata": {},
   "source": [
    "# 机器学习实验：\n",
    "### 1. 鸢尾花数据集——数据预处理\n",
    "    1) 使用kmeans对鸢尾花数据集聚类并用散点图展示；\n",
    "    2) 使用PCA将鸢尾花数据集降到2维并用散点图展示。\n",
    "\n",
    "### 2. 鸢尾花数据集——数据分类 \n",
    "    1）实现鸢尾花数据集knn分类，并计算正确率（每类中各取20个测试）\n",
    "\n",
    "### 3. MNIST手写数字数据集——数据分类\n",
    "    1）使用knn分类，计算正确率；\n",
    "    2）先对MNIST手写数字数据集用PCA降维，选择合适的维数，再使用knn分类，比较两者识别率；\n",
    "\n",
    "### 4. 波士顿房价数据集，\n",
    "    1）分析该数据集，并使用合适的模型对其建模并实现预测\n",
    "\n",
    "#### 说明：可使用python的scikit-learn库下载各数据集，该库也提供上述算法的实现\n",
    "#### 作业提交：源代码+运行结果截图"
   ]
  }
 ],
 "metadata": {
  "kernelspec": {
   "display_name": "Python 3",
   "language": "python",
   "name": "py35-paddle1.2.0"
  },
  "language_info": {
   "codemirror_mode": {
    "name": "ipython",
    "version": 3
   },
   "file_extension": ".py",
   "mimetype": "text/x-python",
   "name": "python",
   "nbconvert_exporter": "python",
   "pygments_lexer": "ipython3",
   "version": "3.7.4"
  }
 },
 "nbformat": 4,
 "nbformat_minor": 4
}
