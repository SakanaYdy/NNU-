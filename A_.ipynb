{
 "cells": [
  {
   "cell_type": "markdown",
   "metadata": {},
   "source": [
    "# 使用回溯及Astar搜索策略求解八数码问题\n",
    "\n",
    "## 1.运行环境：\n",
    "### Python版本：Python 3及以上\n",
    "\n",
    "\n",
    "## 2.所需要的依赖包：\n",
    "### numpy\n",
    "### 可采用的软件：PyCharm\n",
    "\n",
    "\n",
    "## 3. 实验要求：\n",
    "### 1)编写程序：\n",
    "#### a. 随机初始化八数码问题，如：\n",
    "\n",
    "![](https://ai-studio-static-online.cdn.bcebos.com/e8fc03d3425c43f1b83c5cee86d9d4dc3a6cbc5d459f45058df031d4cd253c15)\n",
    "\n",
    "#### b. 利用回溯搜索策略和Astar搜索策略求解，输出解。如\n",
    "\n",
    "![](https://ai-studio-static-online.cdn.bcebos.com/ae5800fd339540868e6276d62e5dc3b68cb6845a995648c68cb6cf1abd91d56d)\n",
    "\n",
    "\n",
    "## 3.思考题\n",
    "#### 八数码问题的所有初始状态都是有解吗？如果不是，请说明满足什么条件的初始状态是有解的？（在代码注释部分回答）\n",
    "\n",
    "\n",
    "## 4. 提交代码+运行结果截图\n"
   ]
  },
  {
   "cell_type": "markdown",
   "metadata": {},
   "source": [
    "八数码问题：输入字符串的逆序对个数为奇数时无解，偶数时有解。"
   ]
  },
  {
   "cell_type": "markdown",
   "metadata": {},
   "source": [
    "Astar搜索策略"
   ]
  },
  {
   "cell_type": "code",
   "execution_count": 45,
   "metadata": {
    "execution": {
     "iopub.execute_input": "2023-04-11T08:20:01.325353Z",
     "iopub.status.busy": "2023-04-11T08:20:01.324170Z",
     "iopub.status.idle": "2023-04-11T08:20:01.329168Z",
     "shell.execute_reply": "2023-04-11T08:20:01.328285Z",
     "shell.execute_reply.started": "2023-04-11T08:20:01.325314Z"
    },
    "scrolled": true,
    "tags": []
   },
   "outputs": [],
   "source": [
    "import numpy as np \n",
    "import heapq"
   ]
  },
  {
   "cell_type": "code",
   "execution_count": 46,
   "metadata": {
    "execution": {
     "iopub.execute_input": "2023-04-11T08:20:01.331559Z",
     "iopub.status.busy": "2023-04-11T08:20:01.330742Z",
     "iopub.status.idle": "2023-04-11T08:20:07.372280Z",
     "shell.execute_reply": "2023-04-11T08:20:07.371467Z",
     "shell.execute_reply.started": "2023-04-11T08:20:01.331535Z"
    },
    "scrolled": true,
    "tags": []
   },
   "outputs": [
    {
     "name": "stdin",
     "output_type": "stream",
     "text": [
      " 5 1 x 6 8 4 7 3 2\r\n"
     ]
    }
   ],
   "source": [
    "#初始化字符串\n",
    "start = input().replace(' ', '')\n",
    "seq = start.replace('x', '0')"
   ]
  },
  {
   "cell_type": "code",
   "execution_count": 47,
   "metadata": {
    "execution": {
     "iopub.execute_input": "2023-04-11T08:20:07.373957Z",
     "iopub.status.busy": "2023-04-11T08:20:07.373595Z",
     "iopub.status.idle": "2023-04-11T08:20:07.378524Z",
     "shell.execute_reply": "2023-04-11T08:20:07.377782Z",
     "shell.execute_reply.started": "2023-04-11T08:20:07.373932Z"
    },
    "scrolled": true,
    "tags": []
   },
   "outputs": [],
   "source": [
    "#用所有点到其最终位置的曼哈顿距离来表示每个状态的优势值\n",
    "def point(state):\n",
    "    res = 0\n",
    "    for i in range(len(state)):\n",
    "        if state[i] != 'x':\n",
    "            t = ord(state[i])\n",
    "            res += abs(i // 3 - t // 3) + abs(i % 3 - t % 3);\n",
    "    return res"
   ]
  },
  {
   "cell_type": "code",
   "execution_count": 48,
   "metadata": {
    "execution": {
     "iopub.execute_input": "2023-04-11T08:20:07.379761Z",
     "iopub.status.busy": "2023-04-11T08:20:07.379427Z",
     "iopub.status.idle": "2023-04-11T08:20:07.388967Z",
     "shell.execute_reply": "2023-04-11T08:20:07.388216Z",
     "shell.execute_reply.started": "2023-04-11T08:20:07.379739Z"
    },
    "scrolled": true,
    "tags": []
   },
   "outputs": [],
   "source": [
    "def bfs(start):\n",
    "    end, op = \"12345678x\", \"urdl\"   #终点状态 以及 移动方式\n",
    "    dist, prev = {}, {}   #dist 记录移动距离，prev记录状态转移\n",
    "    heap = [] \n",
    "    dist[start] = 0\n",
    "    heapq.heappush(heap, (point(start), start))\n",
    "    dx, dy = [-1, 0, 1, 0], [0, 1, 0, -1]   #方向偏移量\n",
    "    while heap:\n",
    "        t, state = heapq.heappop(heap)\n",
    "        if start == end: break\n",
    "        x, y = 0, 0\n",
    "        for i in range(9):    #坐标转换，将字符串的表格转化为二维坐标的形式\n",
    "            if state[i] == 'x':\n",
    "                x, y = i // 3, i % 3\n",
    "                break\n",
    "        source = state\n",
    "        for i in range(4):\n",
    "            a, b = x + dx[i], y + dy[i]\n",
    "            if a < 0 or a >= 3 or b < 0 or b >= 3: continue\n",
    "            ss = source\n",
    "            z, p = ss[x * 3 + y], ss[a * 3 + b]\n",
    "            #移动之后对状态进行修改\n",
    "            ss = ss.replace(z, 'q')\n",
    "            ss = ss.replace(p, z)\n",
    "            ss = ss.replace('q', p)\n",
    "            if (ss not in dist or dist[ss] > dist[source] + 1):\n",
    "                dist[ss] = dist[source] + 1\n",
    "                prev[ss] = (op[i], source)\n",
    "                heapq.heappush(heap, (dist[ss]+point(ss) , ss))\n",
    "    res = \"\"\n",
    "    while end != start:\n",
    "        xx, yy = prev[end]\n",
    "        res += xx\n",
    "        end = yy\n",
    "    return res[::-1]        #逆序输出"
   ]
  },
  {
   "cell_type": "code",
   "execution_count": 49,
   "metadata": {
    "execution": {
     "iopub.execute_input": "2023-04-11T08:20:07.390871Z",
     "iopub.status.busy": "2023-04-11T08:20:07.390433Z",
     "iopub.status.idle": "2023-04-11T08:20:09.302904Z",
     "shell.execute_reply": "2023-04-11T08:20:09.301976Z",
     "shell.execute_reply.started": "2023-04-11T08:20:07.390848Z"
    },
    "scrolled": true,
    "tags": []
   },
   "outputs": [
    {
     "name": "stdout",
     "output_type": "stream",
     "text": [
      "ddluuldrurddluuldrurdldr\r\n"
     ]
    }
   ],
   "source": [
    "cnt=0\n",
    "#判断逆序对个数的奇数偶数\n",
    "for i in range(8):\n",
    "    for j in range(i,8):\n",
    "        if(seq[i]>seq[j]):\n",
    "            cnt=cnt+1\n",
    "if(cnt%2==1): print(\"impossible\")\n",
    "else: print(bfs(start))"
   ]
  },
  {
   "cell_type": "code",
   "execution_count": null,
   "metadata": {
    "scrolled": true
   },
   "outputs": [],
   "source": []
  },
  {
   "cell_type": "markdown",
   "metadata": {},
   "source": [
    "![](https://ai-studio-static-online.cdn.bcebos.com/546a1618759340d8a7e814b61b6c55fb51d7c8f98ead42629edd8d5fdfdfc0e8)\n",
    "![](https://ai-studio-static-online.cdn.bcebos.com/f3d7153741bc436a97e46bb5316cb2621d04149172984afb8d5ceed314d909ad)\n"
   ]
  }
 ],
 "metadata": {
  "kernelspec": {
   "display_name": "Python 3",
   "language": "python",
   "name": "py35-paddle1.2.0"
  },
  "language_info": {
   "codemirror_mode": {
    "name": "ipython",
    "version": 3
   },
   "file_extension": ".py",
   "mimetype": "text/x-python",
   "name": "python",
   "nbconvert_exporter": "python",
   "pygments_lexer": "ipython3",
   "version": "3.7.4"
  }
 },
 "nbformat": 4,
 "nbformat_minor": 4
}
