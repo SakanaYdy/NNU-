{
 "cells": [
  {
   "cell_type": "code",
   "execution_count": 1,
   "id": "de651a5f-79cd-44c2-a3f0-26172b64723c",
   "metadata": {
    "execution": {
     "iopub.execute_input": "2023-05-09T07:22:07.011980Z",
     "iopub.status.busy": "2023-05-09T07:22:07.011276Z",
     "iopub.status.idle": "2023-05-09T07:22:07.016555Z",
     "shell.execute_reply": "2023-05-09T07:22:07.015809Z",
     "shell.execute_reply.started": "2023-05-09T07:22:07.011948Z"
    },
    "scrolled": true,
    "tags": []
   },
   "outputs": [
    {
     "name": "stdout",
     "output_type": "stream",
     "text": [
      "Cannot run import tensorflow because of system compatibility. AI Studio prepared an entire environment based on PaddlePaddle already. Please use PaddlePaddle to build your own model or application.\r\n"
     ]
    }
   ],
   "source": [
    "import tensorflow as tf\n",
    "from sklearn.neighbors import KNeighborsClassifier\n",
    "from sklearn.decomposition import PCA\n",
    "\n",
    "# 导入MNIST手写数字数据集\n",
    "minist = tf.keras.datasets.mnist\n",
    "(train_x, train_y), (test_x, test_y) = minist.load_data()\n",
    "\n",
    "# 将数据展开成二维数组\n",
    "train_x = train_x.reshape((train_x.shape[0], -1))\n",
    "test_x = test_x.reshape((test_x.shape[0], -1))\n",
    "\n",
    "# 将数据降到二维\n",
    "pca=PCA(n_components=2)\n",
    "pca_x_train=pca.fit_transform(train_x)\n",
    "pca_x_test=pca.transform(test_x)\n",
    "\n",
    "# 使用KNN算法对降维后的数据进行分类\n",
    "KNN=KNeighborsClassifier(n_neighbors=5)\n",
    "KNN.fit(pca_x_train,train_y)\n",
    "train_score=KNN.score(pca_x_test,test_y)\n",
    "\n",
    "# 输出分类准确率\n",
    "print(train_score)"
   ]
  },
  {
   "cell_type": "markdown",
   "id": "5a16c743-9996-4126-ae0d-74e109749ed9",
   "metadata": {},
   "source": [
    "平台上没跑得了tensorflow， 用vscode跑的结果"
   ]
  },
  {
   "cell_type": "markdown",
   "id": "537cf7a1-bd73-4975-99dc-309e6f5a2afc",
   "metadata": {},
   "source": [
    "![](https://ai-studio-static-online.cdn.bcebos.com/b1514f960d564e8dab1e52d701e1ff891868900db8ec4da0ad4c27b732c5e176)\n"
   ]
  },
  {
   "cell_type": "markdown",
   "id": "3d903a3b-52b7-4ca5-a7f4-62ddb263e5b9",
   "metadata": {},
   "source": [
    "上面是使用PCA降维之后的KNN分类准确性判断\n",
    "下面是直接使用KNN分类进行准确性判断"
   ]
  },
  {
   "cell_type": "code",
   "execution_count": 2,
   "id": "c58ddd46-d2b0-4cb5-919e-a0a5a5e75df6",
   "metadata": {
    "execution": {
     "iopub.execute_input": "2023-05-09T07:39:10.147546Z",
     "iopub.status.busy": "2023-05-09T07:39:10.146648Z",
     "iopub.status.idle": "2023-05-09T07:39:10.152809Z",
     "shell.execute_reply": "2023-05-09T07:39:10.151941Z",
     "shell.execute_reply.started": "2023-05-09T07:39:10.147512Z"
    },
    "scrolled": true
   },
   "outputs": [
    {
     "name": "stdout",
     "output_type": "stream",
     "text": [
      "Cannot run import tensorflow because of system compatibility. AI Studio prepared an entire environment based on PaddlePaddle already. Please use PaddlePaddle to build your own model or application.\r\n"
     ]
    }
   ],
   "source": [
    "import tensorflow as tf\n",
    "from sklearn.neighbors import KNeighborsClassifier\n",
    "\n",
    "# 导入MNIST手写数字数据集\n",
    "minist = tf.keras.datasets.mnist\n",
    "(train_x, train_y), (test_x, test_y) = minist.load_data()\n",
    "\n",
    "# 将数据展开成二维数组\n",
    "train_x = train_x.reshape((train_x.shape[0], -1))\n",
    "test_x = test_x.reshape((test_x.shape[0], -1))\n",
    "\n",
    "\n",
    "# 使用KNN算法对降维后的数据进行分类\n",
    "KNN=KNeighborsClassifier(n_neighbors=5)\n",
    "KNN.fit(train_x,train_y)\n",
    "train_score=KNN.score(test_x,test_y)\n",
    "\n",
    "# 输出分类准确率\n",
    "print(\"分类准确率:\",train_score)"
   ]
  },
  {
   "cell_type": "markdown",
   "id": "1314e6ed-f58a-4cbc-8439-708573c7dde8",
   "metadata": {},
   "source": [
    "![](https://ai-studio-static-online.cdn.bcebos.com/934918c1d78a40f8b880ccb1cebdebfad791bb8b11c24691b8158103f9bdca7b)\n"
   ]
  }
 ],
 "metadata": {
  "kernelspec": {
   "display_name": "Python 3",
   "language": "python",
   "name": "py35-paddle1.2.0"
  },
  "language_info": {
   "codemirror_mode": {
    "name": "ipython",
    "version": 3
   },
   "file_extension": ".py",
   "mimetype": "text/x-python",
   "name": "python",
   "nbconvert_exporter": "python",
   "pygments_lexer": "ipython3",
   "version": "3.7.4"
  }
 },
 "nbformat": 4,
 "nbformat_minor": 5
}
