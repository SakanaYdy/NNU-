{
 "cells": [
  {
   "cell_type": "code",
   "execution_count": 1,
   "id": "7bac9fa5-a625-4b87-98fb-74420fa108f8",
   "metadata": {
    "execution": {
     "iopub.execute_input": "2023-05-18T11:43:21.061849Z",
     "iopub.status.busy": "2023-05-18T11:43:21.061030Z",
     "iopub.status.idle": "2023-05-18T11:43:27.987928Z",
     "shell.execute_reply": "2023-05-18T11:43:27.986944Z",
     "shell.execute_reply.started": "2023-05-18T11:43:21.061718Z"
    },
    "scrolled": true
   },
   "outputs": [
    {
     "name": "stderr",
     "output_type": "stream",
     "text": [
      "/opt/conda/envs/python35-paddle120-env/lib/python3.7/site-packages/sklearn/datasets/_openml.py:372: UserWarning: Multiple active versions of the dataset matching the name boston exist. Versions may be fundamentally different, returning version 1.\r\n",
      "  \" {version}.\".format(name=name, version=res[0]['version']))\r\n"
     ]
    },
    {
     "name": "stdout",
     "output_type": "stream",
     "text": [
      "[26.06069837 28.11939664 17.6059312  23.07589947 16.49196677 21.47843199\r\n",
      " 17.03816105 15.67275569 20.09669612 19.52814597 21.43328966 19.4066576\r\n",
      " 17.69493673 21.62668859 17.90039153 22.59868666 18.9352643  11.08281333\r\n",
      " 33.85674712 15.11558336 25.15121514 27.93096695 14.42055049 22.31369427\r\n",
      " 15.46510527 15.16544194 21.67226051 13.56193863 21.22384106 18.92066035\r\n",
      " 19.2115993  24.28974108 19.21736098 18.56330085 14.75724523 17.64595868\r\n",
      " 30.08641282 19.99161119 22.87582138 23.65348882 15.72646854 29.44138457\r\n",
      " 32.47424142 18.0867926  24.76662273 15.35195706 15.11761229 24.64591597\r\n",
      " 18.37742825 28.04005182 20.75642018 32.40513016 16.69469106 25.01802593\r\n",
      " 36.01162133 22.39472641 16.2490078  28.59024191 23.85523893 16.88080517\r\n",
      " 24.35239286 27.862902   28.51451964 18.47368084 23.14633148 19.21284043\r\n",
      " 16.27778459 24.51988743 27.89495771 13.58469082 20.05181253 23.77751749\r\n",
      " 10.62333652 20.6064318  22.62935697 13.53560892 19.67648761 32.39146176\r\n",
      " 14.26828775 15.44312108 20.321248   12.13389253 21.64848963 11.885925\r\n",
      " 20.05813773 26.64659905 16.24494042 24.76413532 25.32110461 18.96940029\r\n",
      " 23.80423375 11.7003458  19.31243516 18.02709047 20.33800068 19.76797062\r\n",
      " 19.57402761 15.07355556 12.79237288 13.25673859 21.07121921 23.53493622]\r\n",
      "均方误差 (MSE): 25.43047917029047\r\n",
      "均方根误差 (RMSE): 5.042864183208831\r\n",
      "平均绝对误差 (MAE): 2.708152544247629\r\n"
     ]
    },
    {
     "data": {
      "text/plain": [
       "<Figure size 640x480 with 1 Axes>"
      ]
     },
     "metadata": {},
     "output_type": "display_data"
    }
   ],
   "source": [
    "from sklearn.datasets import fetch_openml\n",
    "from sklearn.svm import SVR\n",
    "from sklearn.model_selection import train_test_split\n",
    "from sklearn.metrics import mean_squared_error, mean_absolute_error\n",
    "from sklearn.preprocessing import StandardScaler\n",
    "import matplotlib.pyplot as plt\n",
    "from pylab import mpl\n",
    "\n",
    "mpl.rcParams['font.sans-serif'] = ['SimHei'] # 指定默认字体\n",
    "\n",
    "# Download Boston Housing dataset\n",
    "boston = fetch_openml(name='boston')\n",
    "\n",
    "# 获取特征矩阵 X 和目标变量 y\n",
    "X = boston.data\n",
    "y = boston.target\n",
    "\"\"\" print(X[0])\n",
    "print(y[0]) \"\"\"\n",
    "\n",
    "# 特征标准化\n",
    "scaler = StandardScaler()\n",
    "X_scaled = scaler.fit_transform(X)\n",
    "\n",
    "# 划分训练集和测试集\n",
    "X_train, X_test, y_train, y_test = train_test_split(X_scaled, y, test_size=0.2, random_state=42)\n",
    "\n",
    "# 创建 SVM 模型\n",
    "#使用高斯核函数进行拟合。可以将数据映射到高维空间，更好处理非线性数据集\n",
    "svm_model = SVR(kernel='rbf')\n",
    "\n",
    "svm_model.fit(X_train, y_train)\n",
    "\n",
    "# 在测试集上进行预测\n",
    "y_pred = svm_model.predict(X_test)\n",
    "print(y_pred)\n",
    "\"\"\" cnt=0\n",
    "for x in X_test:\n",
    "    y_pred=svm_model.predict(x)\n",
    "    print(\"实际房价：\",y_test[cnt],\"模型预测房价：\",y_pred)\n",
    "    cnt=cnt+1 \"\"\"\n",
    "\n",
    "# 评估模型性能\n",
    "mse = mean_squared_error(y_test, y_pred)\n",
    "rmse = mean_squared_error(y_test, y_pred, squared=False)\n",
    "mae = mean_absolute_error(y_test, y_pred)\n",
    "\n",
    "# Print the evaluation results\n",
    "print(\"均方误差 (MSE):\", mse)\n",
    "print(\"均方根误差 (RMSE):\", rmse)\n",
    "print(\"平均绝对误差 (MAE):\", mae)\n",
    "\n",
    "# 绘制真实房价的散点图\n",
    "plt.scatter(range(len(y_test)), y_test, c='blue', label='真实房价')\n",
    "\n",
    "# 绘制预测房价的散点图\n",
    "plt.scatter(range(len(y_pred)), y_pred, c='red', label='预测房价')\n",
    "\n",
    "plt.xlabel('样本编号')\n",
    "plt.ylabel('房价')\n",
    "plt.title('真实房价 vs. 预测房价')\n",
    "plt.legend()\n",
    "plt.show()\n",
    "\n"
   ]
  },
  {
   "cell_type": "markdown",
   "id": "4329f6eb-dca8-4684-9838-8cdfa8fa639e",
   "metadata": {},
   "source": [
    "![](https://ai-studio-static-online.cdn.bcebos.com/ca95ca249a2d43c1a17a7486e67227b5ecea825d5edd4770bee54430408756de)\n",
    "![](https://ai-studio-static-online.cdn.bcebos.com/63a2f5c150ec474495d2e93c5d17d60cdd8ae73a93644f8685b44e589ec91382)\n"
   ]
  }
 ],
 "metadata": {
  "kernelspec": {
   "display_name": "Python 3",
   "language": "python",
   "name": "py35-paddle1.2.0"
  },
  "language_info": {
   "codemirror_mode": {
    "name": "ipython",
    "version": 3
   },
   "file_extension": ".py",
   "mimetype": "text/x-python",
   "name": "python",
   "nbconvert_exporter": "python",
   "pygments_lexer": "ipython3",
   "version": "3.7.4"
  }
 },
 "nbformat": 4,
 "nbformat_minor": 5
}
