{
 "cells": [
  {
   "cell_type": "code",
   "execution_count": null,
   "id": "a2a55ce7-d710-44b5-aaae-adacb5fd7016",
   "metadata": {
    "scrolled": true
   },
   "outputs": [],
   "source": [
    "import sys\r\n",
    " \r\n",
    "sys.setrecursionlimit(1000000) "
   ]
  },
  {
   "cell_type": "code",
   "execution_count": null,
   "id": "776a10c3-c6d3-4090-8508-42028646cdb1",
   "metadata": {
    "scrolled": true
   },
   "outputs": [],
   "source": [
    "import numpy as np\r\n",
    " \r\n",
    " #产生初始状态\r\n",
    "def generate_random_state():\r\n",
    "    nums = list(range(9))\r\n",
    "    np.random.shuffle(nums)\r\n",
    "    return np.array(nums).reshape((3, 3))\r\n",
    "\r\n",
    "init_state = generate_random_state()\r\n",
    "print(\"Initial state:\")\r\n",
    "print(init_state)"
   ]
  },
  {
   "cell_type": "code",
   "execution_count": null,
   "id": "bb50a523-c71b-421c-8757-fcacaabe165d",
   "metadata": {
    "scrolled": true
   },
   "outputs": [],
   "source": [
    "goal_state=[[1 ,2 ,3],[4, 5, 6],[7, 8, 0]]\r\n",
    "print(goal_state)"
   ]
  },
  {
   "cell_type": "code",
   "execution_count": null,
   "id": "ca15373d-e887-46d5-93a4-eba4eff0d48f",
   "metadata": {
    "scrolled": true
   },
   "outputs": [],
   "source": [
    "def move_one(state, action):\r\n",
    "        r, c = np.where(state == 0)\r\n",
    "        r, c = int(r), int(c)\r\n",
    "        if action == 'up':\r\n",
    "            if r == 0:\r\n",
    "                return state\r\n",
    "            state[r, c], state[r - 1, c] = state[r - 1, c], state[r, c]\r\n",
    "        elif action == 'down':\r\n",
    "            if r == 2:\r\n",
    "                return state\r\n",
    "            state[r, c], state[r + 1, c] = state[r + 1, c], state[r, c]\r\n",
    "        elif action == 'left':\r\n",
    "            if c == 0:\r\n",
    "                return state\r\n",
    "            state[r, c], state[r, c - 1] = state[r, c - 1], state[r, c]\r\n",
    "        elif action == 'right':\r\n",
    "            if c == 2:\r\n",
    "                return state\r\n",
    "            state[r, c], state[r, c + 1] = state[r, c + 1], state[r, c]\r\n",
    "        return state"
   ]
  },
  {
   "cell_type": "code",
   "execution_count": null,
   "id": "c1faa83e-2d2d-4199-85cf-65576694d898",
   "metadata": {
    "scrolled": true
   },
   "outputs": [],
   "source": [
    "def solve(state, pre_move, goal):\r\n",
    "    if np.array_equal(state, goal):\r\n",
    "        return True\r\n",
    "    for move in ['up', 'down', 'left', 'right']:\r\n",
    "        # 如果返回已经走过的路，就直接 continue\r\n",
    "        if ((move == 'up' and pre_move == 'down') or \r\n",
    "            (move == 'down' and pre_move == 'up') or\r\n",
    "            (move == 'left' and pre_move == 'right') or \r\n",
    "            (move == 'right' and pre_move == 'left')):\r\n",
    "            continue\r\n",
    "        new_state = move_one(state.copy(), move)\r\n",
    "        if new_state is not None and not np.array_equal(new_state, state):\r\n",
    "            if solve(new_state, move, goal):\r\n",
    "                print(move)\r\n",
    "                return True\r\n",
    "    return False"
   ]
  },
  {
   "cell_type": "code",
   "execution_count": null,
   "id": "44913248-55cc-443a-941c-063d336450f4",
   "metadata": {
    "scrolled": true
   },
   "outputs": [],
   "source": [
    "solve(init_state,None,goal_state)"
   ]
  }
 ],
 "metadata": {
  "kernelspec": {
   "display_name": "Python 3",
   "language": "python",
   "name": "py35-paddle1.2.0"
  },
  "language_info": {
   "codemirror_mode": {
    "name": "ipython",
    "version": 3
   },
   "file_extension": ".py",
   "mimetype": "text/x-python",
   "name": "python",
   "nbconvert_exporter": "python",
   "pygments_lexer": "ipython3",
   "version": "3.7.4"
  }
 },
 "nbformat": 4,
 "nbformat_minor": 5
}
