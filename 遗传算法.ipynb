{
 "cells": [
  {
   "cell_type": "markdown",
   "metadata": {},
   "source": [
    "# 遗传算法求最值实验说明"
   ]
  },
  {
   "cell_type": "markdown",
   "metadata": {},
   "source": [
    "## 1.运行环境：\n",
    "#### Python版本：Python 3及以上\n",
    "#### 所需要的依赖包：\n",
    "    matplotlib\n",
    "    numpy\n",
    "    mpl_toolkits\n",
    "    可采用的软件：PyCharm"
   ]
  },
  {
   "cell_type": "markdown",
   "metadata": {},
   "source": [
    "## 2. 实验步骤：\n",
    "#### 1) 设置遗传算法的相关参数，以及自变量X,Y的区间，如下图：\n",
    "![](https://ai-studio-static-online.cdn.bcebos.com/5edd9fa4f9df4433b21cdc6ea918f0abaaf71760f06d4bdc821963e354587c99)\n",
    "#### 2) 使用基本遗传算法计算以下数学函数的最大值和最小值，返回解和最值：\n",
    "![](https://ai-studio-static-online.cdn.bcebos.com/22d94bfeaa7d411cba980d603ade069b6ddb1e4aa84e4e58a3f4e29a2a5fd0a0)\n",
    "#### 3) 提交代码和运行结果截图。\n",
    "\n",
    "## 3. 选做内容：\n",
    "#### 使用群智能算法（蚁群算法或粒子群优化算法）求解上述问题。"
   ]
  },
  {
   "cell_type": "code",
   "execution_count": 9,
   "metadata": {
    "execution": {
     "iopub.execute_input": "2023-04-25T07:39:30.086362Z",
     "iopub.status.busy": "2023-04-25T07:39:30.085744Z",
     "iopub.status.idle": "2023-04-25T07:39:31.610982Z",
     "shell.execute_reply": "2023-04-25T07:39:31.609977Z",
     "shell.execute_reply.started": "2023-04-25T07:39:30.086326Z"
    },
    "scrolled": true,
    "tags": []
   },
   "outputs": [
    {
     "name": "stdout",
     "output_type": "stream",
     "text": [
      "min_fitness: 0.8033160584156201\r\n",
      "最优的基因型： [0 0 0 0 1 1 1 0 0 0 0 1 0 0 1 1 1 1 0 1 1 1 1 1 0 0 0 0 0 0 0 0 0 0 0 0 1\r\n",
      " 0 0 0 1 0 0 1 1 1 1 1]\r\n",
      "(x, y): (0.5499071210567428, 0.0013154745886012665)\r\n",
      "0.004931888444325494\r\n"
     ]
    }
   ],
   "source": [
    "import numpy as np\n",
    "import matplotlib.pyplot as plt\n",
    "import math\n",
    "\n",
    "DNA_SIZE = 24   #编码长度\n",
    "POP_SIZE = 100  #种群大小\n",
    "CROSS_RATE = 0.8  #交叉率\n",
    "MUTA_RATE = 0.15  #变异率\n",
    "Interation = 1000   #迭代次数\n",
    "X_BOUND = [0,10]\n",
    "Y_BOUND = [0,10]\n",
    "\n",
    "#函数主体\n",
    "def F(x, y):\n",
    "    return (6.452*(x+0.125*y)*(np.cos(x)-np.cos(2*y))**2)/(0.8+(x-4.2)**2+2*(y-7)**2)+3.226*y\n",
    "\n",
    "#适应度\n",
    "def get_fitness(pop):\n",
    "    x, y = translateDNA(pop)\n",
    "    pred = F(x, y)\n",
    "    return pred - np.min(pred)+1e-3    #最大值\n",
    "    #return np.max(pred) - pred + 1e-3   #最小值\n",
    "\n",
    "    \n",
    "#解码 将二进制数串映射成区间内的个体\n",
    "def translateDNA(pop):  # pop表示种群矩阵，一行表示一个二进制编码表示的DNA，矩阵的行数为种群数目\n",
    "    x_pop = pop[:, 0:DNA_SIZE]  # 前DNA_SIZE位表示X\n",
    "    y_pop = pop[:, DNA_SIZE:]  # 后DNA_SIZE位表示Y\n",
    "\n",
    "    x = x_pop.dot(2 ** np.arange(DNA_SIZE)[::-1]) / float(2 ** DNA_SIZE - 1) * (X_BOUND[1] - X_BOUND[0]) + X_BOUND[0]\n",
    "    y = y_pop.dot(2 ** np.arange(DNA_SIZE)[::-1]) / float(2 ** DNA_SIZE - 1) * (Y_BOUND[1] - Y_BOUND[0]) + Y_BOUND[0]\n",
    "    return x, y   \n",
    "\n",
    "#遗传与变异\n",
    "def crossover_and_mutation(pop, CROSS_RATE=0.8):\n",
    "    new_pop = []\n",
    "    for father in pop:  # 遍历种群中的每一个个体，将该个体作为父亲\n",
    "        child = father  # 孩子先得到父亲的全部基因（这里我把一串二进制串的那些0，1称为基因）\n",
    "        if np.random.rand() < CROSS_RATE:  # 产生子代时不是必然发生交叉，而是以一定的概率发生交叉\n",
    "            mother = pop[np.random.randint(POP_SIZE)]  # 再种群中选择另一个个体，并将该个体作为母亲\n",
    "            cross_points = np.random.randint(low=0, high=DNA_SIZE * 2)  # 随机产生交叉的点\n",
    "            child[cross_points:] = mother[cross_points:]  # 孩子得到位于交叉点后的母亲的基因\n",
    "        mutation(child)  # 每个后代有一定的机率发生变异\n",
    "        new_pop.append(child)   #形成新的后代\n",
    "\n",
    "    return new_pop    #返回繁衍之后的新的种群\n",
    "\n",
    "#变异\n",
    "def mutation(child, MUTA_RATE=0.15):\n",
    "    if np.random.rand() < MUTA_RATE:  # 以MUTA_RATE的概率进行变异\n",
    "        mutate_point = np.random.randint(0, DNA_SIZE*2)  # 随机产生一个实数，代表要变异基因的位置\n",
    "        child[mutate_point] = child[mutate_point] ^ 1  # 将变异点的二进制为反转\n",
    "\n",
    "#适者生存，挑选fitness最大的进行种群繁衍\n",
    "def select(pop, fitness):  \n",
    "    #适应度越高的个体越容易被选择进行繁衍    \n",
    "    idx = np.random.choice(np.arange(POP_SIZE), size=POP_SIZE, replace=True, p=(fitness) / (fitness.sum())) #P表示每个数被随机选到的概率，概率选择\n",
    "    return pop[idx]   \n",
    "\n",
    "\n",
    "def print_info(pop):\n",
    "    fitness = get_fitness(pop)   #获取种群中每个各题的适应度 也就是fitness值\n",
    "    max_fitness_index = np.argmax(fitness)\n",
    "    print(\"max_fitness:\", fitness[max_fitness_index])    \n",
    "    #print(\"min_fitness:\", fitness[max_fitness_index])\n",
    "    x, y = translateDNA(pop)    #解码\n",
    "    print(\"最优的基因型：\", pop[max_fitness_index])   \n",
    "    print(\"(x, y):\", (x[max_fitness_index], y[max_fitness_index]))   \n",
    "    print(F(x[max_fitness_index], y[max_fitness_index]))  \n",
    "\n",
    "\n",
    "if __name__ == \"__main__\":\n",
    "\n",
    "    #随机生成种群\n",
    "    pop = np.random.randint(2, size=(POP_SIZE, DNA_SIZE * 2)) \n",
    "\n",
    "    #最大值\n",
    "    for _ in range(Interation):  # 迭代Interation代\n",
    "        x, y = translateDNA(pop)\n",
    "        pop = np.array(crossover_and_mutation(pop, CROSS_RATE))\n",
    "        fitness = get_fitness(pop)\n",
    "        pop = select(pop, fitness)  # 选择生成新的种群\n",
    "\n",
    "    print_info(pop)\n",
    "\n"
   ]
  },
  {
   "cell_type": "markdown",
   "metadata": {},
   "source": [
    "![](https://ai-studio-static-online.cdn.bcebos.com/c61d5f1a68914f3ca3bd437e5851fc13f4284de2336c41409597ded926be53fc)\n",
    "![](https://ai-studio-static-online.cdn.bcebos.com/718232f31d6145aa878af59a2bb8aa1b2fdfcc9a82e94e33b3684c330e7df902)\n"
   ]
  }
 ],
 "metadata": {
  "kernelspec": {
   "display_name": "Python 3",
   "language": "python",
   "name": "py35-paddle1.2.0"
  },
  "language_info": {
   "codemirror_mode": {
    "name": "ipython",
    "version": 3
   },
   "file_extension": ".py",
   "mimetype": "text/x-python",
   "name": "python",
   "nbconvert_exporter": "python",
   "pygments_lexer": "ipython3",
   "version": "3.7.4"
  }
 },
 "nbformat": 4,
 "nbformat_minor": 4
}
